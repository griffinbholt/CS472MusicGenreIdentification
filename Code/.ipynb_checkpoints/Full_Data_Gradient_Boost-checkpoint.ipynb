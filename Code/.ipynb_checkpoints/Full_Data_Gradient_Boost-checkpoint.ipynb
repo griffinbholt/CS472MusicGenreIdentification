{
 "cells": [
  {
   "cell_type": "code",
   "execution_count": null,
   "metadata": {
    "id": "8RaQN_M5uMlP"
   },
   "outputs": [
    {
     "name": "stderr",
     "output_type": "stream",
     "text": [
      "<>:48: SyntaxWarning: \"is\" with a literal. Did you mean \"==\"?\n",
      "<>:48: SyntaxWarning: \"is\" with a literal. Did you mean \"==\"?\n"
     ]
    }
   ],
   "source": [
    "# Import pertinent ML functions\n",
    "from sklearn.model_selection import train_test_split, KFold, GridSearchCV\n",
    "from sklearn.preprocessing import MinMaxScaler, MaxAbsScaler\n",
    "from sklearn.metrics import accuracy_score\n",
    "\n",
    "# Import the Models\n",
    "from sklearn.ensemble import GradientBoostingClassifier\n",
    "\n",
    "# Import other important libraries\n",
    "import numpy as np\n",
    "import pandas as pd\n",
    "import matplotlib.pyplot as plt\n",
    "from scipy.stats import loguniform\n",
    "import pickle\n",
    "\n",
    "gtzan_feature_file = '../Data/gtzan_features.csv'\n",
    "\n",
    "def load_gtzan_set(filename):\n",
    "  df = pd.read_csv(filename)\n",
    "  X, y = np.split(df.to_numpy(),[-1],axis=1)\n",
    "  X = X.astype(np.float64)\n",
    "  y = y.T[0]\n",
    "  return X, y, df.columns.values\n",
    "\n",
    "grad_boost_hp = {\n",
    "  'learning_rate': [0.001, 0.01, 0.1],\n",
    "  'max_depth': [3, 5, 7],\n",
    "  'max_features': ['sqrt', 'log2', None]\n",
    "}\n",
    "\n",
    "scaling_to_test = [None, 'MinMax', 'MaxAbs']\n",
    "\n",
    "def full_data_experiment(scaling, model, hp_space):\n",
    "  # Configure the outer cross-validation procedure\n",
    "  outer_cv = KFold(n_splits=10, shuffle=True, random_state=42)\n",
    "  outer_results = {'scaling': scaling, 'acc': [], 'best_params': []}\n",
    "\n",
    "  iter = 1\n",
    "\n",
    "  for train_ix, test_ix in outer_cv.split(gtzan_X):\n",
    "    print(iter)\n",
    "    # Split data\n",
    "    X_train, X_test = gtzan_X[train_ix, :], gtzan_X[test_ix, :]\n",
    "    y_train, y_test = gtzan_y[train_ix], gtzan_y[test_ix]\n",
    "\n",
    "    # Scale the input data if it applies\n",
    "    if scaling is not None:\n",
    "      scaler = MinMaxScaler() if scaling is 'MinMax' else MaxAbsScaler()\n",
    "      X_train = scaler.fit_transform(X_train)\n",
    "      X_test = scaler.transform(X_test)\n",
    "\n",
    "    # Configure the inner cross-validation procedure\n",
    "    cv_inner = KFold(n_splits=4, shuffle=True, random_state=1)\n",
    "\n",
    "    # Define the Random Search & refit best model on whole training set\n",
    "    search = GridSearchCV(model, hp_space, scoring='accuracy', cv=cv_inner, verbose=True, refit=True, n_jobs=-1)\n",
    " \n",
    "    # Execute the Random Search with the PCA-transformed train set\n",
    "    result = search.fit(X_train, y_train)\n",
    "\n",
    "    # Get the best performing model fit on the whole training set\n",
    "    best_model = result.best_estimator_\n",
    "\n",
    "    # Evaluate model on the PCA-transformed test set\n",
    "    preds = best_model.predict(X_test)\n",
    " \n",
    "    # Evaluate the model\n",
    "    acc = accuracy_score(y_test, preds)\n",
    " \n",
    "    # Store the results\n",
    "    outer_results['acc'].append(acc)\n",
    "    outer_results['best_params'].append(result.best_params_)\n",
    "\n",
    "    iter += 1\n",
    "\n",
    "  return outer_results"
   ]
  },
  {
   "cell_type": "code",
   "execution_count": null,
   "metadata": {
    "id": "3evXvlKLua7C"
   },
   "outputs": [],
   "source": [
    "gtzan_X, gtzan_y, gtzan_feature_list = load_gtzan_set(gtzan_feature_file)"
   ]
  },
  {
   "cell_type": "code",
   "execution_count": null,
   "metadata": {
    "id": "ZkbNn2qwgqp-"
   },
   "outputs": [],
   "source": [
    "gb_results = []\n",
    "base_gb_model = GradientBoostingClassifier()"
   ]
  },
  {
   "cell_type": "code",
   "execution_count": null,
   "metadata": {
    "colab": {
     "base_uri": "https://localhost:8080/"
    },
    "id": "LJN6VLRIuZVb",
    "outputId": "5c39fd47-67f7-4fa0-e2ab-7b84d50800e6"
   },
   "outputs": [
    {
     "name": "stdout",
     "output_type": "stream",
     "text": [
      "None\n",
      "1\n",
      "Fitting 4 folds for each of 27 candidates, totalling 108 fits\n"
     ]
    },
    {
     "name": "stderr",
     "output_type": "stream",
     "text": [
      "[Parallel(n_jobs=-1)]: Using backend LokyBackend with 2 concurrent workers.\n",
      "[Parallel(n_jobs=-1)]: Done  46 tasks      | elapsed: 16.0min\n",
      "[Parallel(n_jobs=-1)]: Done 108 out of 108 | elapsed: 40.3min finished\n"
     ]
    },
    {
     "name": "stdout",
     "output_type": "stream",
     "text": [
      "2\n",
      "Fitting 4 folds for each of 27 candidates, totalling 108 fits\n"
     ]
    },
    {
     "name": "stderr",
     "output_type": "stream",
     "text": [
      "[Parallel(n_jobs=-1)]: Using backend LokyBackend with 2 concurrent workers.\n"
     ]
    }
   ],
   "source": [
    "for scaling in scaling_to_test:\n",
    "  print(str(scaling))\n",
    "  results = full_data_experiment(scaling=scaling, model=base_gb_model, hp_space=grad_boost_hp)\n",
    "  gb_results.append(results)"
   ]
  },
  {
   "cell_type": "code",
   "execution_count": null,
   "metadata": {
    "id": "xmZ6nqoJulFU"
   },
   "outputs": [],
   "source": []
  }
 ],
 "metadata": {
  "colab": {
   "name": "Full Data - Gradient Boost.ipynb",
   "provenance": []
  },
  "kernelspec": {
   "display_name": "Python 3",
   "language": "python",
   "name": "python3"
  },
  "language_info": {
   "codemirror_mode": {
    "name": "ipython",
    "version": 3
   },
   "file_extension": ".py",
   "mimetype": "text/x-python",
   "name": "python",
   "nbconvert_exporter": "python",
   "pygments_lexer": "ipython3",
   "version": "3.9.2"
  }
 },
 "nbformat": 4,
 "nbformat_minor": 1
}
