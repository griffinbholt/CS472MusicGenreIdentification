{
 "cells": [
  {
   "cell_type": "code",
   "execution_count": 2,
   "metadata": {
    "id": "8RlXRTjpymOU"
   },
   "outputs": [],
   "source": [
    "# Import pertinent ML functions\n",
    "from sklearn.model_selection import train_test_split, KFold, GridSearchCV\n",
    "from sklearn.preprocessing import MinMaxScaler, MaxAbsScaler\n",
    "from sklearn.metrics import accuracy_score\n",
    "\n",
    "# Import the Models\n",
    "from sklearn.ensemble import RandomForestClassifier\n",
    "\n",
    "# Import other important libraries\n",
    "import numpy as np\n",
    "import pandas as pd\n",
    "import matplotlib.pyplot as plt\n",
    "from scipy.stats import loguniform\n",
    "import pickle\n",
    "\n",
    "gtzan_feature_file = '../Data/gtzan_features.csv'\n",
    "\n",
    "def load_gtzan_set(filename):\n",
    "  df = pd.read_csv(filename)\n",
    "  X, y = np.split(df.to_numpy(),[-1],axis=1)\n",
    "  X = X.astype(np.float64)\n",
    "  y = y.T[0]\n",
    "  return X, y, df.columns.values\n",
    "\n",
    "rand_forest_hp = {\n",
    "  'n_estimators': [50, 100, 150],\n",
    "  'criterion': ['gini', 'entropy'],\n",
    "  'max_depth': [5, 10, 25, None],\n",
    "  'max_features': ['sqrt', 'log2', None]\n",
    "}\n",
    "\n",
    "scaling_to_test = [None, 'MinMax', 'MaxAbs']\n",
    "\n",
    "def full_data_experiment(scaling, model, hp_space):\n",
    "  # Configure the outer cross-validation procedure\n",
    "  outer_cv = KFold(n_splits=10, shuffle=True, random_state=42)\n",
    "  outer_results = {'scaling': scaling, 'acc': [], 'best_params': []}\n",
    "\n",
    "  iter = 1\n",
    "\n",
    "  for train_ix, test_ix in outer_cv.split(gtzan_X):\n",
    "    print(iter)\n",
    "    # Split data\n",
    "    X_train, X_test = gtzan_X[train_ix, :], gtzan_X[test_ix, :]\n",
    "    y_train, y_test = gtzan_y[train_ix], gtzan_y[test_ix]\n",
    "\n",
    "    # Scale the input data if it applies\n",
    "    if scaling is not None:\n",
    "      scaler = MinMaxScaler() if scaling == 'MinMax' else MaxAbsScaler()\n",
    "      X_train = scaler.fit_transform(X_train)\n",
    "      X_test = scaler.transform(X_test)\n",
    "\n",
    "    # Configure the inner cross-validation procedure\n",
    "    cv_inner = KFold(n_splits=4, shuffle=True, random_state=1)\n",
    "\n",
    "    # Define the Random Search & refit best model on whole training set\n",
    "    search = GridSearchCV(model, hp_space, scoring='accuracy', cv=cv_inner, verbose=True, refit=True, n_jobs=-1)\n",
    " \n",
    "    # Execute the Random Search with the PCA-transformed train set\n",
    "    result = search.fit(X_train, y_train)\n",
    "\n",
    "    # Get the best performing model fit on the whole training set\n",
    "    best_model = result.best_estimator_\n",
    "\n",
    "    # Evaluate model on the PCA-transformed test set\n",
    "    preds = best_model.predict(X_test)\n",
    " \n",
    "    # Evaluate the model\n",
    "    acc = accuracy_score(y_test, preds)\n",
    " \n",
    "    # Store the results\n",
    "    outer_results['acc'].append(acc)\n",
    "    outer_results['best_params'].append(result.best_params_)\n",
    "\n",
    "    iter += 1\n",
    "\n",
    "  return outer_results"
   ]
  },
  {
   "cell_type": "code",
   "execution_count": 5,
   "metadata": {
    "id": "799_pXkIhfhv"
   },
   "outputs": [],
   "source": [
    "gtzan_X, gtzan_y, gtzan_feature_list = load_gtzan_set(gtzan_feature_file)"
   ]
  },
  {
   "cell_type": "code",
   "execution_count": 6,
   "metadata": {
    "id": "-gt7GfOWhYqt"
   },
   "outputs": [],
   "source": [
    "rand_forest_results = []\n",
    "base_rand_forest_model = RandomForestClassifier()"
   ]
  },
  {
   "cell_type": "code",
   "execution_count": 7,
   "metadata": {
    "colab": {
     "base_uri": "https://localhost:8080/",
     "height": 529
    },
    "id": "SYsigYaQhtDL",
    "outputId": "3add8216-6c2f-4cc7-fbfb-b17a9e5a35c1"
   },
   "outputs": [
    {
     "name": "stdout",
     "output_type": "stream",
     "text": [
      "None\n",
      "1\n",
      "Fitting 4 folds for each of 72 candidates, totalling 288 fits\n",
      "2\n",
      "Fitting 4 folds for each of 72 candidates, totalling 288 fits\n",
      "3\n",
      "Fitting 4 folds for each of 72 candidates, totalling 288 fits\n",
      "4\n",
      "Fitting 4 folds for each of 72 candidates, totalling 288 fits\n",
      "5\n",
      "Fitting 4 folds for each of 72 candidates, totalling 288 fits\n",
      "6\n",
      "Fitting 4 folds for each of 72 candidates, totalling 288 fits\n",
      "7\n",
      "Fitting 4 folds for each of 72 candidates, totalling 288 fits\n",
      "8\n",
      "Fitting 4 folds for each of 72 candidates, totalling 288 fits\n",
      "9\n",
      "Fitting 4 folds for each of 72 candidates, totalling 288 fits\n",
      "10\n",
      "Fitting 4 folds for each of 72 candidates, totalling 288 fits\n",
      "MinMax\n",
      "1\n",
      "Fitting 4 folds for each of 72 candidates, totalling 288 fits\n",
      "2\n",
      "Fitting 4 folds for each of 72 candidates, totalling 288 fits\n",
      "3\n",
      "Fitting 4 folds for each of 72 candidates, totalling 288 fits\n",
      "4\n",
      "Fitting 4 folds for each of 72 candidates, totalling 288 fits\n",
      "5\n",
      "Fitting 4 folds for each of 72 candidates, totalling 288 fits\n",
      "6\n",
      "Fitting 4 folds for each of 72 candidates, totalling 288 fits\n",
      "7\n",
      "Fitting 4 folds for each of 72 candidates, totalling 288 fits\n",
      "8\n",
      "Fitting 4 folds for each of 72 candidates, totalling 288 fits\n",
      "9\n",
      "Fitting 4 folds for each of 72 candidates, totalling 288 fits\n",
      "10\n",
      "Fitting 4 folds for each of 72 candidates, totalling 288 fits\n",
      "MaxAbs\n",
      "1\n",
      "Fitting 4 folds for each of 72 candidates, totalling 288 fits\n",
      "2\n",
      "Fitting 4 folds for each of 72 candidates, totalling 288 fits\n",
      "3\n",
      "Fitting 4 folds for each of 72 candidates, totalling 288 fits\n",
      "4\n",
      "Fitting 4 folds for each of 72 candidates, totalling 288 fits\n",
      "5\n",
      "Fitting 4 folds for each of 72 candidates, totalling 288 fits\n",
      "6\n",
      "Fitting 4 folds for each of 72 candidates, totalling 288 fits\n",
      "7\n",
      "Fitting 4 folds for each of 72 candidates, totalling 288 fits\n",
      "8\n",
      "Fitting 4 folds for each of 72 candidates, totalling 288 fits\n",
      "9\n",
      "Fitting 4 folds for each of 72 candidates, totalling 288 fits\n",
      "10\n",
      "Fitting 4 folds for each of 72 candidates, totalling 288 fits\n"
     ]
    }
   ],
   "source": [
    "for scaling in scaling_to_test:\n",
    "  print(str(scaling))\n",
    "  results = full_data_experiment(scaling=scaling, model=base_rand_forest_model, hp_space=rand_forest_hp)\n",
    "  rand_forest_results.append(results)"
   ]
  },
  {
   "cell_type": "code",
   "execution_count": 8,
   "metadata": {},
   "outputs": [
    {
     "name": "stdout",
     "output_type": "stream",
     "text": [
      "Done\n"
     ]
    }
   ],
   "source": [
    "print('Done')"
   ]
  },
  {
   "cell_type": "code",
   "execution_count": 11,
   "metadata": {},
   "outputs": [
    {
     "data": {
      "text/plain": [
       "{'scaling': 'MaxAbs',\n",
       " 'acc': [0.7833333333333333,\n",
       "  0.81,\n",
       "  0.8433333333333334,\n",
       "  0.8366666666666667,\n",
       "  0.8466666666666667,\n",
       "  0.85,\n",
       "  0.8433333333333334,\n",
       "  0.8366666666666667,\n",
       "  0.84,\n",
       "  0.8333333333333334],\n",
       " 'best_params': [{'criterion': 'gini',\n",
       "   'max_depth': 25,\n",
       "   'max_features': 'sqrt',\n",
       "   'n_estimators': 150},\n",
       "  {'criterion': 'entropy',\n",
       "   'max_depth': 25,\n",
       "   'max_features': 'sqrt',\n",
       "   'n_estimators': 100},\n",
       "  {'criterion': 'gini',\n",
       "   'max_depth': None,\n",
       "   'max_features': 'log2',\n",
       "   'n_estimators': 150},\n",
       "  {'criterion': 'gini',\n",
       "   'max_depth': None,\n",
       "   'max_features': 'sqrt',\n",
       "   'n_estimators': 150},\n",
       "  {'criterion': 'gini',\n",
       "   'max_depth': 25,\n",
       "   'max_features': 'sqrt',\n",
       "   'n_estimators': 150},\n",
       "  {'criterion': 'entropy',\n",
       "   'max_depth': None,\n",
       "   'max_features': 'sqrt',\n",
       "   'n_estimators': 150},\n",
       "  {'criterion': 'gini',\n",
       "   'max_depth': 25,\n",
       "   'max_features': 'log2',\n",
       "   'n_estimators': 150},\n",
       "  {'criterion': 'gini',\n",
       "   'max_depth': 25,\n",
       "   'max_features': 'log2',\n",
       "   'n_estimators': 150},\n",
       "  {'criterion': 'entropy',\n",
       "   'max_depth': None,\n",
       "   'max_features': 'sqrt',\n",
       "   'n_estimators': 150},\n",
       "  {'criterion': 'entropy',\n",
       "   'max_depth': None,\n",
       "   'max_features': 'log2',\n",
       "   'n_estimators': 150}]}"
      ]
     },
     "execution_count": 11,
     "metadata": {},
     "output_type": "execute_result"
    }
   ],
   "source": [
    "rand_forest_results[2]"
   ]
  },
  {
   "cell_type": "code",
   "execution_count": null,
   "metadata": {},
   "outputs": [],
   "source": []
  }
 ],
 "metadata": {
  "colab": {
   "collapsed_sections": [],
   "name": "Full Data - Random Forest.ipynb",
   "provenance": []
  },
  "kernelspec": {
   "display_name": "Python 3",
   "language": "python",
   "name": "python3"
  },
  "language_info": {
   "codemirror_mode": {
    "name": "ipython",
    "version": 3
   },
   "file_extension": ".py",
   "mimetype": "text/x-python",
   "name": "python",
   "nbconvert_exporter": "python",
   "pygments_lexer": "ipython3",
   "version": "3.9.2"
  }
 },
 "nbformat": 4,
 "nbformat_minor": 1
}
