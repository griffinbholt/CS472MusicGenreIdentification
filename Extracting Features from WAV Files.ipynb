{
 "cells": [
  {
   "cell_type": "markdown",
   "id": "cordless-tooth",
   "metadata": {},
   "source": [
    "# Extracting Features from WAV Files"
   ]
  },
  {
   "cell_type": "code",
   "execution_count": 29,
   "id": "federal-operations",
   "metadata": {},
   "outputs": [],
   "source": [
    "# Load required libraries\n",
    "import sys\n",
    "sys.path.append('/Library/Frameworks/Python.framework/Versions/3.9/lib/python3.9/site-packages')\n",
    "import librosa\n",
    "import librosa.display\n",
    "import soundfile\n",
    "import IPython.display as ipd\n",
    "import matplotlib.pyplot as plt\n",
    "import numpy as np"
   ]
  },
  {
   "cell_type": "code",
   "execution_count": 78,
   "id": "north-veteran",
   "metadata": {},
   "outputs": [],
   "source": [
    "# Load the sample WAV file\n",
    "audio_file = 'sample_audio/debussy.wav'\n",
    "audio, sample_rate = librosa.load(audio_file)"
   ]
  },
  {
   "cell_type": "code",
   "execution_count": 79,
   "id": "nuclear-round",
   "metadata": {},
   "outputs": [],
   "source": [
    "# Set the default frame size and hop length\n",
    "FRAME_SIZE = 2048\n",
    "HOP_SIZE = 512"
   ]
  },
  {
   "cell_type": "markdown",
   "id": "artificial-disposition",
   "metadata": {},
   "source": [
    "## Time-Domain Features"
   ]
  },
  {
   "cell_type": "markdown",
   "id": "following-style",
   "metadata": {},
   "source": [
    "### Estimated Tempo"
   ]
  },
  {
   "cell_type": "code",
   "execution_count": 161,
   "id": "manufactured-postcard",
   "metadata": {},
   "outputs": [],
   "source": [
    "bpm_audio = librosa.beat.tempo(y=audio, sr=sample_rate, hop_length=HOP_SIZE)"
   ]
  },
  {
   "cell_type": "markdown",
   "id": "sonic-breed",
   "metadata": {},
   "source": [
    "### Amplitude Envelope"
   ]
  },
  {
   "cell_type": "code",
   "execution_count": 80,
   "id": "falling-things",
   "metadata": {},
   "outputs": [],
   "source": [
    "def amplitude_envelope(signal, frame_size, hop_length):\n",
    "    return np.array([max(signal[i:(i + frame_size)]) for i in range(0, len(signal), hop_length)])"
   ]
  },
  {
   "cell_type": "code",
   "execution_count": 81,
   "id": "pregnant-chaos",
   "metadata": {},
   "outputs": [],
   "source": [
    "ae_audio = amplitude_envelope(audio, FRAME_SIZE, HOP_SIZE)\n",
    "ae_mean = np.mean(ae_audio)\n",
    "ae_stddev = np.std(ae_audio)"
   ]
  },
  {
   "cell_type": "markdown",
   "id": "coordinated-devices",
   "metadata": {},
   "source": [
    "### Root-Mean Square Energy"
   ]
  },
  {
   "cell_type": "code",
   "execution_count": 82,
   "id": "packed-brass",
   "metadata": {},
   "outputs": [],
   "source": [
    "rms_audio = librosa.feature.rms(audio, frame_length=FRAME_SIZE, hop_length=HOP_SIZE)[0]\n",
    "rms_mean = np.mean(rms_audio)\n",
    "rms_stddev = np.std(rms_audio)"
   ]
  },
  {
   "cell_type": "markdown",
   "id": "tired-piano",
   "metadata": {},
   "source": [
    "### Energy Entropy"
   ]
  },
  {
   "cell_type": "code",
   "execution_count": 166,
   "id": "fitting-stroke",
   "metadata": {},
   "outputs": [],
   "source": [
    "def compute_energy(frame):\n",
    "    return np.sum(np.abs(frame)**2) / len(frame)\n",
    "\n",
    "\n",
    "def compute_frame_energy_entropy(frame, num_subframes=20):\n",
    "    subframe_size = int(np.floor(len(frame) / num_subframes))\n",
    "    subframes = [frame[i:(i + subframe_size)] for i in range(0, len(frame), subframe_size)]\n",
    "    \n",
    "    energy = np.array([compute_energy(subframe) for subframe in subframes])\n",
    "    energy = energy / np.sum(energy)\n",
    "    \n",
    "    return -np.sum(energy * np.log2(energy))\n",
    "    \n",
    "\n",
    "def energy_entropy(signal, frame_length, hop_length):\n",
    "    return np.array([compute_frame_energy_entropy(signal[i:(i + frame_length)]) for i in range(0, len(signal), hop_length)])"
   ]
  },
  {
   "cell_type": "code",
   "execution_count": 172,
   "id": "acoustic-parking",
   "metadata": {},
   "outputs": [],
   "source": [
    "ee_audio = energy_entropy(audio, FRAME_SIZE, HOP_SIZE)\n",
    "ee_mean = np.mean(ee_audio)\n",
    "ee_stddev = np.std(ee_audio)"
   ]
  },
  {
   "cell_type": "markdown",
   "id": "solid-farming",
   "metadata": {},
   "source": [
    "### Zero-Crossing Rate"
   ]
  },
  {
   "cell_type": "code",
   "execution_count": 83,
   "id": "established-devon",
   "metadata": {},
   "outputs": [],
   "source": [
    "zcr_audio = librosa.feature.zero_crossing_rate(audio, frame_length=FRAME_SIZE, hop_length=HOP_SIZE)[0]\n",
    "zcr_mean = np.mean(zcr_audio)\n",
    "zcr_stddev = np.std(zcr_audio)"
   ]
  },
  {
   "cell_type": "markdown",
   "id": "ordinary-gates",
   "metadata": {},
   "source": [
    "## Frequency-Domain Features"
   ]
  },
  {
   "cell_type": "code",
   "execution_count": 84,
   "id": "mounted-dodge",
   "metadata": {},
   "outputs": [],
   "source": [
    "# Extract the spectrograms\n",
    "audio_spctgm = librosa.stft(audio, n_fft=FRAME_SIZE, hop_length=HOP_SIZE)"
   ]
  },
  {
   "cell_type": "markdown",
   "id": "regular-ireland",
   "metadata": {},
   "source": [
    "### Band-Energy Ratio"
   ]
  },
  {
   "cell_type": "code",
   "execution_count": 85,
   "id": "damaged-stewart",
   "metadata": {},
   "outputs": [],
   "source": [
    "SPLIT_FREQ = 2000"
   ]
  },
  {
   "cell_type": "code",
   "execution_count": 175,
   "id": "french-exclusion",
   "metadata": {},
   "outputs": [],
   "source": [
    "def calculate_split_frequency_bin(spectrogram, split_frequency, sample_rate):\n",
    "    frequency_range = sample_rate / 2\n",
    "    frequency_delta_per_bin = frequency_range / spectrogram.shape[0]\n",
    "    split_frequency_bin = np.floor(split_frequency / frequency_delta_per_bin)\n",
    "    return int(split_frequency_bin)\n",
    "\n",
    "\n",
    "def to_power_spectrogram(spectrogram):\n",
    "    return (np.abs(spectrogram) ** 2)\n",
    "\n",
    "\n",
    "def calculate_ber_for_frame(frequencies_in_frame, split_frequency_bin):\n",
    "    sum_power_low_freq = np.sum(frequencies_in_frame[:split_frequency_bin])\n",
    "    sum_power_high_freq = np.sum(frequencies_in_frame[split_frequency_bin:])\n",
    "    return (sum_power_low_freq / sum_power_high_freq)\n",
    "    band_energy_ratio.append(ber_curr_frame)\n",
    "\n",
    "    \n",
    "def band_energy_ratio(spectrogram, split_frequency, sample_rate):\n",
    "    split_frequency_bin = calculate_split_frequency_bin(spectrogram, split_frequency, sample_rate)\n",
    "    power_spec = to_power_spectrogram(spectrogram).T\n",
    "    ber = [calculate_ber_for_frame(freqs_in_frame, split_frequency_bin) for freqs_in_frame in power_spec]\n",
    "    return np.array(ber)"
   ]
  },
  {
   "cell_type": "code",
   "execution_count": 176,
   "id": "unexpected-search",
   "metadata": {},
   "outputs": [],
   "source": [
    "ber_audio = band_energy_ratio(audio_spctgm, SPLIT_FREQ, sample_rate)\n",
    "ber_mean = np.mean(ber_audio)\n",
    "ber_stddev = np.std(ber_audio)"
   ]
  },
  {
   "cell_type": "markdown",
   "id": "funny-thermal",
   "metadata": {},
   "source": [
    "### Spectral Centroid"
   ]
  },
  {
   "cell_type": "code",
   "execution_count": 96,
   "id": "utility-monaco",
   "metadata": {},
   "outputs": [],
   "source": [
    "sc_audio = librosa.feature.spectral_centroid(audio, sr=sample_rate, n_fft=FRAME_SIZE, hop_length=HOP_SIZE)[0]\n",
    "sc_mean = np.mean(sc_audio)\n",
    "sc_stddev = np.std(sc_audio)"
   ]
  },
  {
   "cell_type": "markdown",
   "id": "ecological-tribute",
   "metadata": {},
   "source": [
    "### Bandwidth / Spectral Spread"
   ]
  },
  {
   "cell_type": "code",
   "execution_count": 99,
   "id": "chubby-tackle",
   "metadata": {},
   "outputs": [],
   "source": [
    "ss_audio = librosa.feature.spectral_bandwidth(audio, sr=sample_rate, n_fft=FRAME_SIZE, hop_length=HOP_SIZE)[0]\n",
    "ss_mean = np.mean(ss_audio)\n",
    "ss_stddev = np.std(ss_audio)"
   ]
  },
  {
   "cell_type": "markdown",
   "id": "parliamentary-privacy",
   "metadata": {},
   "source": [
    "### Spectral Rolloff"
   ]
  },
  {
   "cell_type": "code",
   "execution_count": 101,
   "id": "maritime-decimal",
   "metadata": {},
   "outputs": [],
   "source": [
    "sroll_audio = librosa.feature.spectral_rolloff(audio, sr=sample_rate, n_fft=FRAME_SIZE, hop_length=HOP_SIZE)[0]\n",
    "sroll_mean = np.mean(sroll_audio)\n",
    "sroll_stddev = np.std(sroll_audio)"
   ]
  },
  {
   "cell_type": "markdown",
   "id": "affiliated-edition",
   "metadata": {},
   "source": [
    "### Spectral Flatness"
   ]
  },
  {
   "cell_type": "code",
   "execution_count": 155,
   "id": "metric-entrance",
   "metadata": {},
   "outputs": [],
   "source": [
    "sflat_audio = librosa.feature.spectral_flatness(audio, n_fft=FRAME_SIZE, hop_length=HOP_SIZE)[0]\n",
    "sflat_mean = np.mean(sflat_audio)\n",
    "sflat_stddev = np.std(sflat_audio)"
   ]
  },
  {
   "cell_type": "markdown",
   "id": "precise-sugar",
   "metadata": {},
   "source": [
    "### Spectral Contrast"
   ]
  },
  {
   "cell_type": "code",
   "execution_count": 158,
   "id": "martial-religious",
   "metadata": {},
   "outputs": [],
   "source": [
    "sconstrast_audio = librosa.feature.spectral_contrast(audio, sr=sample_rate, n_fft=FRAME_SIZE, hop_length=HOP_SIZE)[0]\n",
    "sconstrast_mean = np.mean(sconstrast_audio)\n",
    "sconstrast_stddev = np.std(sconstrast_audio)"
   ]
  },
  {
   "cell_type": "markdown",
   "id": "coupled-retreat",
   "metadata": {},
   "source": [
    "### Spectral Flux\n",
    "\n",
    "https://www.sciencedirect.com/topics/engineering/spectral-flux"
   ]
  },
  {
   "cell_type": "code",
   "execution_count": 152,
   "id": "daily-aspect",
   "metadata": {},
   "outputs": [],
   "source": [
    "def normalize(spectra):\n",
    "    return spectra / np.sum(spectra)\n",
    "\n",
    "def compute_spect_flux_for_frame(prev_spectra_nmlzd, curr_spectra):\n",
    "    curr_spectra_nmlzd = normalize(curr_spectra)\n",
    "    frame_sf = np.linalg.norm(curr_spectra_nmlzd - prev_spectra_nmlzd)\n",
    "    return frame_sf, curr_spectra_nmlzd\n",
    "\n",
    "def spectral_flux(spectrogram):\n",
    "    num_frames = spectrogram.shape[1]\n",
    "    \n",
    "    curr_spectra = spectrogram[:, 0]\n",
    "    curr_spectra_nmlzd = normalize(curr_spectra)\n",
    "\n",
    "    sf = []\n",
    "    for i in range(1, num_frames):\n",
    "        frame_sf, curr_spectra_nmlzd = compute_spect_flux_for_frame(curr_spectra_nmlzd, spectrogram[:, i])\n",
    "        sf.append(frame_sf)\n",
    "        \n",
    "    return np.array(sf)"
   ]
  },
  {
   "cell_type": "code",
   "execution_count": 151,
   "id": "planned-talent",
   "metadata": {},
   "outputs": [],
   "source": [
    "sf_audio = spectral_flux(audio_spctgm)\n",
    "sf_mean = np.mean(sf_audio)\n",
    "sf_stddev = np.std(sf_audio)"
   ]
  },
  {
   "cell_type": "markdown",
   "id": "juvenile-scene",
   "metadata": {},
   "source": [
    "## Mel-Frequency Cepstral Coefficients"
   ]
  },
  {
   "cell_type": "code",
   "execution_count": 111,
   "id": "equal-costa",
   "metadata": {},
   "outputs": [],
   "source": [
    "mfccs_audio = librosa.feature.mfcc(audio, n_mfcc=13, sr=sample_rate)\n",
    "mfccs_mean = np.mean(mfccs_audio, axis=1)\n",
    "mfccs_stddev = np.std(mfccs_audio, axis=1)"
   ]
  },
  {
   "cell_type": "markdown",
   "id": "severe-superior",
   "metadata": {},
   "source": [
    "## Chroma Vector"
   ]
  },
  {
   "cell_type": "code",
   "execution_count": 119,
   "id": "absent-reset",
   "metadata": {},
   "outputs": [],
   "source": [
    "chroma_audio = librosa.feature.chroma_stft(y=audio, sr=sample_rate, n_chroma=12, \n",
    "                                           n_fft=FRAME_SIZE, hop_length=HOP_SIZE)\n",
    "chroma_mean = np.mean(chroma_audio, axis=1)\n",
    "chroma_stddev = np.std(chroma_audio, axis=1)"
   ]
  }
 ],
 "metadata": {
  "kernelspec": {
   "display_name": "Python 3",
   "language": "python",
   "name": "python3"
  },
  "language_info": {
   "codemirror_mode": {
    "name": "ipython",
    "version": 3
   },
   "file_extension": ".py",
   "mimetype": "text/x-python",
   "name": "python",
   "nbconvert_exporter": "python",
   "pygments_lexer": "ipython3",
   "version": "3.9.2"
  }
 },
 "nbformat": 4,
 "nbformat_minor": 5
}
