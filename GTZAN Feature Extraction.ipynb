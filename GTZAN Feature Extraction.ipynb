{
 "cells": [
  {
   "cell_type": "code",
   "execution_count": 1,
   "id": "excess-incidence",
   "metadata": {},
   "outputs": [],
   "source": [
    "import sys\n",
    "sys.path.append('/Library/Frameworks/Python.framework/Versions/3.9/lib/python3.9/site-packages')"
   ]
  },
  {
   "cell_type": "code",
   "execution_count": 2,
   "id": "capable-annex",
   "metadata": {},
   "outputs": [],
   "source": [
    "from os import listdir\n",
    "import numpy as np\n",
    "import pandas as pd\n",
    "from AudioFeatureExtractor import AudioFeatureExtractor"
   ]
  },
  {
   "cell_type": "code",
   "execution_count": 3,
   "id": "dynamic-journal",
   "metadata": {},
   "outputs": [],
   "source": [
    "genres = ['Blues', 'Classical', 'Country', 'Disco', 'Hiphop', 'Jazz', 'Metal', 'Pop', 'Rock', 'Reggae']\n",
    "csv_name = 'features_gtzan.csv'\n",
    "gtzan_dir = '/Users/griffinbholt/Downloads/GTZAN_split_data/'"
   ]
  },
  {
   "cell_type": "code",
   "execution_count": 4,
   "id": "catholic-throat",
   "metadata": {},
   "outputs": [],
   "source": [
    "# Create the AudioFeatureExtractor Object\n",
    "afe = AudioFeatureExtractor()"
   ]
  },
  {
   "cell_type": "code",
   "execution_count": 5,
   "id": "healthy-equilibrium",
   "metadata": {},
   "outputs": [],
   "source": [
    "# Get the column names for the data\n",
    "feature_list = afe.generate_feature_list()"
   ]
  },
  {
   "cell_type": "code",
   "execution_count": 6,
   "id": "checked-transportation",
   "metadata": {},
   "outputs": [],
   "source": [
    "all_feature_data = []"
   ]
  },
  {
   "cell_type": "code",
   "execution_count": 7,
   "id": "stretch-renewal",
   "metadata": {},
   "outputs": [
    {
     "name": "stderr",
     "output_type": "stream",
     "text": [
      "/Users/griffinbholt/SchoolProjects/MusicGenreIdentification/AudioFeatureExtractor.py:119: RuntimeWarning: divide by zero encountered in log2\n",
      "  return -np.sum(energy * np.log2(energy))\n",
      "/Users/griffinbholt/SchoolProjects/MusicGenreIdentification/AudioFeatureExtractor.py:119: RuntimeWarning: invalid value encountered in multiply\n",
      "  return -np.sum(energy * np.log2(energy))\n",
      "/Users/griffinbholt/SchoolProjects/MusicGenreIdentification/AudioFeatureExtractor.py:117: RuntimeWarning: invalid value encountered in true_divide\n",
      "  energy = energy / np.sum(energy)\n",
      "/Users/griffinbholt/SchoolProjects/MusicGenreIdentification/AudioFeatureExtractor.py:152: RuntimeWarning: invalid value encountered in float_scalars\n",
      "  return (sum_power_low_freq / sum_power_high_freq)\n",
      "/Users/griffinbholt/SchoolProjects/MusicGenreIdentification/AudioFeatureExtractor.py:188: RuntimeWarning: invalid value encountered in true_divide\n",
      "  return spectra / np.sum(spectra)\n"
     ]
    }
   ],
   "source": [
    "# Extract features from each audio file in the Blues folder\n",
    "# Done: i = 0, 1, 2, 3, 4, 5, 6, 7, 8, 9\n",
    "for i in range(10):\n",
    "    folder_path = gtzan_dir + genres[i].lower()\n",
    "    audio_files = listdir(folder_path)\n",
    "\n",
    "    feature_data_for_this_genre = []\n",
    "\n",
    "    for audio_file in audio_files:\n",
    "        if '.wav' in audio_file:\n",
    "            audio_data = afe.extract((folder_path + '/' + audio_file), genres[i])\n",
    "            feature_data_for_this_genre.append(audio_data)\n",
    "\n",
    "    all_feature_data.append(np.array(feature_data_for_this_genre))"
   ]
  },
  {
   "cell_type": "code",
   "execution_count": 28,
   "id": "impaired-canberra",
   "metadata": {
    "scrolled": true
   },
   "outputs": [
    {
     "data": {
      "text/plain": [
       "(300, 74)"
      ]
     },
     "execution_count": 28,
     "metadata": {},
     "output_type": "execute_result"
    }
   ],
   "source": [
    "all_feature_data[9].shape\n",
    "# Blues, Classical, Country, Disco, Hiphop, Jazz, Metal, Pop, Rock, Reggae"
   ]
  },
  {
   "cell_type": "code",
   "execution_count": 29,
   "id": "metric-novelty",
   "metadata": {},
   "outputs": [],
   "source": [
    "all_feature_data_stacked = np.vstack(all_feature_data)"
   ]
  },
  {
   "cell_type": "code",
   "execution_count": 88,
   "id": "painful-stocks",
   "metadata": {},
   "outputs": [],
   "source": [
    "all_feature_df = pd.DataFrame(data=all_feature_data_stacked, columns=feature_list)"
   ]
  },
  {
   "cell_type": "code",
   "execution_count": 106,
   "id": "beginning-davis",
   "metadata": {},
   "outputs": [],
   "source": [
    "nan_columns = []\n",
    "\n",
    "for column in all_feature_df.columns.values:\n",
    "    unique = all_feature_df[column].unique()\n",
    "    if 'nan' in unique:\n",
    "        nan_columns.append(column)"
   ]
  },
  {
   "cell_type": "code",
   "execution_count": 90,
   "id": "built-purpose",
   "metadata": {},
   "outputs": [],
   "source": [
    "for column in nan_columns:\n",
    "    all_feature_df[column] = all_feature_df[column].replace('nan', 0)"
   ]
  },
  {
   "cell_type": "code",
   "execution_count": 91,
   "id": "official-northern",
   "metadata": {
    "scrolled": true
   },
   "outputs": [
    {
     "data": {
      "text/plain": [
       "['energy_entropy_mean',\n",
       " 'band_energy_ratio_mean',\n",
       " 'spectral_flux_mean',\n",
       " 'energy_entropy_std',\n",
       " 'band_energy_ratio_std',\n",
       " 'spectral_flux_std']"
      ]
     },
     "execution_count": 91,
     "metadata": {},
     "output_type": "execute_result"
    }
   ],
   "source": [
    "nan_columns"
   ]
  },
  {
   "cell_type": "code",
   "execution_count": 116,
   "id": "utility-republic",
   "metadata": {},
   "outputs": [],
   "source": [
    "for column in all_feature_df.columns.values[:-1]:\n",
    "    all_feature_df[column] = pd.to_numeric(all_feature_df[column])"
   ]
  },
  {
   "cell_type": "code",
   "execution_count": 124,
   "id": "meaningful-offset",
   "metadata": {},
   "outputs": [],
   "source": [
    "## Save the data to a CSV\n",
    "all_feature_df.to_csv('/Users/griffinbholt/SchoolProjects/MusicGenreIdentification/gtzan_features.csv', sep=',', index=False)"
   ]
  },
  {
   "cell_type": "code",
   "execution_count": null,
   "id": "behavioral-impact",
   "metadata": {},
   "outputs": [],
   "source": []
  }
 ],
 "metadata": {
  "kernelspec": {
   "display_name": "Python 3",
   "language": "python",
   "name": "python3"
  },
  "language_info": {
   "codemirror_mode": {
    "name": "ipython",
    "version": 3
   },
   "file_extension": ".py",
   "mimetype": "text/x-python",
   "name": "python",
   "nbconvert_exporter": "python",
   "pygments_lexer": "ipython3",
   "version": "3.9.2"
  }
 },
 "nbformat": 4,
 "nbformat_minor": 5
}
